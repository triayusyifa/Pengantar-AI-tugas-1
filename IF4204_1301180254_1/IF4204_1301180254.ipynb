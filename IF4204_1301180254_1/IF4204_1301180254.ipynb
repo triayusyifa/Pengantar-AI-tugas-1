{
  "nbformat": 4,
  "nbformat_minor": 0,
  "metadata": {
    "colab": {
      "name": "IF4204_1301180254.ipynb",
      "provenance": [],
      "collapsed_sections": []
    },
    "kernelspec": {
      "name": "python3",
      "display_name": "Python 3"
    }
  },
  "cells": [
    {
      "cell_type": "code",
      "metadata": {
        "id": "85q28hw84g_R"
      },
      "source": [
        "jumlahpopulasi = 90\n",
        "jumlahkromosom = 20\n",
        "batas1 = [-1,2]\n",
        "batas2 = [-1,1]\n"
      ],
      "execution_count": 1,
      "outputs": []
    },
    {
      "cell_type": "code",
      "metadata": {
        "id": "6j9JlXtLxyru"
      },
      "source": [
        "#berisi binner yang diolah oleh sistem secara random. \n",
        "import random\n",
        "def kromosom(jumlahkromosom):\n",
        "  kromosom = []\n",
        "  for i in range(jumlahkromosom):\n",
        "    kromosom.append(random.randint(0,1))\n",
        "  return kromosom"
      ],
      "execution_count": 2,
      "outputs": []
    },
    {
      "cell_type": "code",
      "metadata": {
        "id": "xEMROar3z_rR"
      },
      "source": [
        "#kumpulan kromosom(secara random)\n",
        "def population(jumlahpopulasi,jumlahkromosom):\n",
        "  population =[]\n",
        "  for i in range(jumlahpopulasi):\n",
        "    population.append(kromosom(jumlahkromosom))\n",
        "  return population\n"
      ],
      "execution_count": 3,
      "outputs": []
    },
    {
      "cell_type": "code",
      "metadata": {
        "id": "_twyEIBP1GHb"
      },
      "source": [
        "#mengitung x1 dan x2 (rumus ada di slide)\n",
        "def fenotipe(bagidua,g):\n",
        "  penyebut = 0\n",
        "  for i in range(len(bagidua)):\n",
        "    penyebut = penyebut + 2 **(-(i+1))\n",
        "  iteratif = 0\n",
        "  for i in range(len(bagidua)):\n",
        "    iteratif = iteratif + bagidua[i]  * 2**(-(i+1))\n",
        "  if g == 1:\n",
        "    return batas1[0] + ((batas1[1]-batas1[0])/penyebut) * iteratif\n",
        "  else:\n",
        "     return batas2[0] + ((batas2[1] - batas2[0])/penyebut) * iteratif"
      ],
      "execution_count": 4,
      "outputs": []
    },
    {
      "cell_type": "code",
      "metadata": {
        "id": "dUDexOgr89bo"
      },
      "source": [
        "#membagi panjang kromosom menjadi 2 dan menghitung x1 dan x2\n",
        "def genotipe(bagikromosom):\n",
        "  x1 = fenotipe(bagikromosom[:len(bagikromosom)//2],1)\n",
        "  x2 = fenotipe(bagikromosom[len(bagikromosom)//2:],2)\n",
        "  return x1,x2"
      ],
      "execution_count": 5,
      "outputs": []
    },
    {
      "cell_type": "code",
      "metadata": {
        "id": "YlIiA7yD_QUP",
        "outputId": "0a1ea0af-978b-4cb3-f6b9-710742ba2319",
        "colab": {
          "base_uri": "https://localhost:8080/",
          "height": 1000
        }
      },
      "source": [
        "#mengoutputkan hasil genotipe yang sudah dibagi 2\n",
        "jumlah = population(jumlahpopulasi, jumlahkromosom)\n",
        "for bagikromosom in jumlah:\n",
        "  print(genotipe(bagikromosom))"
      ],
      "execution_count": 6,
      "outputs": [
        {
          "output_type": "stream",
          "text": [
            "(-0.7976539589442815, 0.7732160312805474)\n",
            "(1.272727272727273, 0.12805474095796687)\n",
            "(-0.7859237536656891, -0.7067448680351907)\n",
            "(0.28739002932551316, 0.39393939393939403)\n",
            "(1.9618768328445748, 0.6070381231671553)\n",
            "(-0.10850439882697949, 0.21407624633431088)\n",
            "(0.39296187683284467, 0.20625610948191597)\n",
            "(1.7419354838709675, 0.6578690127077225)\n",
            "(0.6950146627565983, -0.9667644183773216)\n",
            "(-0.8826979472140762, 0.6656891495601174)\n",
            "(0.7096774193548387, -0.8103616813294232)\n",
            "(0.6568914956011731, 0.33137829912023453)\n",
            "(1.2844574780058653, -0.7575757575757576)\n",
            "(0.7478005865102639, 0.804496578690127)\n",
            "(0.8856304985337244, -0.1456500488758553)\n",
            "(-0.13196480938416422, -0.2218963831867058)\n",
            "(0.038123167155425186, 0.6989247311827957)\n",
            "(-0.29032258064516125, 0.7341153470185728)\n",
            "(0.8181818181818181, 0.4780058651026393)\n",
            "(-0.035190615835777095, -0.5620723362658846)\n",
            "(0.43988269794721413, -0.7008797653958945)\n",
            "(-0.0703812316715543, -0.7126099706744868)\n",
            "(-0.02346041055718473, 0.14956011730205288)\n",
            "(-0.4838709677419355, 0.45063538611925713)\n",
            "(1.067448680351906, 0.501466275659824)\n",
            "(-0.5835777126099706, -0.6324535679374389)\n",
            "(-0.5454545454545454, 0.5210166177908113)\n",
            "(0.07917888563049846, -0.4916911045943304)\n",
            "(1.3431085043988271, 0.6109481915933528)\n",
            "(1.7184750733137828, 0.2668621700879765)\n",
            "(0.5601173020527859, 0.632453567937439)\n",
            "(0.1026392961876832, 0.5464320625610948)\n",
            "(-0.5806451612903225, 0.9276637341153471)\n",
            "(0.04692082111436946, 0.08113391984359719)\n",
            "(1.193548387096774, -0.20234604105571852)\n",
            "(0.05278592375366564, 0.4545454545454546)\n",
            "(1.6686217008797652, 0.0889540566959921)\n",
            "(1.2991202346041058, -0.6832844574780059)\n",
            "(1.126099706744868, -0.6129032258064516)\n",
            "(-0.5777126099706744, 0.8338220918866079)\n",
            "(0.8064516129032258, -0.24926686217008798)\n",
            "(0.07624633431085037, 0.9257086999022484)\n",
            "(-0.6099706744868035, 0.06353861192570864)\n",
            "(-0.04105571847507328, -0.1593352883675464)\n",
            "(1.7419354838709675, 0.5131964809384164)\n",
            "(1.0586510263929618, -0.18279569892473113)\n",
            "(0.3841642228739004, -0.8005865102639296)\n",
            "(-0.4897360703812317, 0.956989247311828)\n",
            "(-0.5278592375366569, 0.935483870967742)\n",
            "(-0.13196480938416422, -0.5640273704789833)\n",
            "(1.2844574780058653, 0.270772238514174)\n",
            "(0.6891495601173021, -0.8084066471163245)\n",
            "(0.7155425219941349, -0.6168132942326491)\n",
            "(-0.6803519061583578, -0.1026392961876833)\n",
            "(-0.5601173020527859, 0.9393939393939394)\n",
            "(1.9472140762463344, -0.5483870967741935)\n",
            "(1.0850439882697946, -0.16324535679374386)\n",
            "(-0.6011730205278593, 0.7732160312805474)\n",
            "(0.6363636363636365, 0.9120234604105573)\n",
            "(-0.841642228739003, -0.4975562072336266)\n",
            "(-0.9178885630498533, 0.4486803519061584)\n",
            "(-0.3401759530791789, -0.8592375366568915)\n",
            "(-0.7419354838709677, 0.9198435972629522)\n",
            "(0.8035190615835777, -0.07526881720430112)\n",
            "(1.1055718475073313, 0.9335288367546433)\n",
            "(-0.624633431085044, -0.8299120234604106)\n",
            "(1.6070381231671553, 0.46627565982404695)\n",
            "(-0.7302052785923754, -0.6500488758553274)\n",
            "(-0.8651026392961877, 0.40371456500488767)\n",
            "(0.4252199413489737, -0.19648093841642233)\n",
            "(0.3401759530791788, 0.935483870967742)\n",
            "(1.7683284457478008, 0.42913000977517113)\n",
            "(-0.24926686217008798, -0.9413489736070382)\n",
            "(-0.782991202346041, 0.7712609970674487)\n",
            "(1.0410557184750733, -0.36852394916911047)\n",
            "(-0.8211143695014662, -0.006842619745845546)\n",
            "(1.4956011730205279, -0.7360703812316716)\n",
            "(1.838709677419355, 0.7966764418377321)\n",
            "(1.0909090909090908, 0.07331378299120228)\n",
            "(0.36070381231671544, -0.6695992179863148)\n",
            "(0.8680351906158357, 0.3665689149560116)\n",
            "(0.4134897360703813, -0.10459433040078203)\n",
            "(-0.25219941348973607, -0.48191593352883677)\n",
            "(1.8152492668621703, 0.8005865102639296)\n",
            "(-0.29325513196480935, 0.7106549364613881)\n",
            "(-0.624633431085044, -0.8748778103616813)\n",
            "(1.3958944281524928, 0.9315738025415445)\n",
            "(-0.6891495601173021, -0.4056695992179863)\n",
            "(-0.014662756598240456, 0.7595307917888563)\n",
            "(0.49266862170087977, -0.12218963831867058)\n"
          ],
          "name": "stdout"
        }
      ]
    },
    {
      "cell_type": "code",
      "metadata": {
        "id": "ylAfE_zOA6mG"
      },
      "source": [
        "#mendefinisikan rumus sin cos yang ada di soal\n",
        "import numpy as np\n",
        "def soal(x1,x2):\n",
        "  penyebut = x1/((x2**2)+1)\n",
        "  rumus = np.cos(x1)*np.sin(x2) - penyebut\n",
        "  return rumus\n"
      ],
      "execution_count": 7,
      "outputs": []
    },
    {
      "cell_type": "code",
      "metadata": {
        "id": "NsG9m-65DaIn"
      },
      "source": [
        "#fitness untuk menegatifkan rumus sin cos yang di soal\n",
        "def fitness(bagikromosom) :\n",
        "  x1,x2 = genotipe(bagikromosom)\n",
        "  rumus= -soal(x1,x2)\n",
        "  return rumus\n"
      ],
      "execution_count": 8,
      "outputs": []
    },
    {
      "cell_type": "code",
      "metadata": {
        "id": "VSfyE_ydo89n",
        "outputId": "84abeecf-a8f5-4c34-ba34-7dbb7ba3eb21",
        "colab": {
          "base_uri": "https://localhost:8080/",
          "height": 1000
        }
      },
      "source": [
        "#hasilperhitungan untuk megoutputkan semua fitness (rumus sin cos yang sudah dihitung dan dinegatifkan)\n",
        "def hasilperhitungan(jumlah) :\n",
        "  banyakfitness = []\n",
        "  for bagikromosom in jumlah :\n",
        "    banyakfitness.append(fitness(bagikromosom))\n",
        "  return banyakfitness\n",
        "\n",
        "hasilperhitungan(population(jumlahpopulasi, jumlahkromosom))\n"
      ],
      "execution_count": 9,
      "outputs": [
        {
          "output_type": "execute_result",
          "data": {
            "text/plain": [
              "[1.4060115825396795,\n",
              " 0.9123230885812367,\n",
              " -0.49338535537796524,\n",
              " 0.5894792509531952,\n",
              " 1.122674386924322,\n",
              " 1.1832767979184247,\n",
              " 0.13529986113872894,\n",
              " -0.4100373330944776,\n",
              " 1.6095015247015556,\n",
              " 1.0147805791588815,\n",
              " 0.6215440756993716,\n",
              " 0.35610845043120853,\n",
              " 0.8832399088881657,\n",
              " 1.5804231133377045,\n",
              " 0.5204044268809146,\n",
              " -0.7617888127606695,\n",
              " 0.11634044324890597,\n",
              " 0.6954169996874632,\n",
              " -1.0425824011893265,\n",
              " 0.8959881815731326,\n",
              " -0.0216730236338063,\n",
              " 0.9502524424536798,\n",
              " -0.5795185878900109,\n",
              " -0.9330650209223492,\n",
              " 1.1486614803652335,\n",
              " -0.5265733423466546,\n",
              " -0.5277722363379695,\n",
              " 0.9461775363541032,\n",
              " 1.4083888683720291,\n",
              " 0.7838671238794909,\n",
              " 0.4609335615080084,\n",
              " 1.0832607892519341,\n",
              " 0.012531320406183322,\n",
              " -0.6232263372193164,\n",
              " 0.3038478051517148,\n",
              " 0.7835857517771777,\n",
              " -0.6987519276223318,\n",
              " -0.5219628750086809,\n",
              " -0.1465921346685749,\n",
              " 1.3375161694804871,\n",
              " 1.6291065750842808,\n",
              " 1.1844738891151798,\n",
              " 1.8780280967410474,\n",
              " 0.6045420667834772,\n",
              " -0.31307107769028775,\n",
              " -0.2191199640495452,\n",
              " 0.9872158760892148,\n",
              " 0.9985583926234184,\n",
              " -1.0065670820862513,\n",
              " 0.5235065117781267,\n",
              " 0.6371151243902593,\n",
              " 0.6154164472362725,\n",
              " 1.1852512209486479,\n",
              " 0.08625167139109491,\n",
              " 1.3685410764067014,\n",
              " -0.015636167491973718,\n",
              " 1.5420608196504586,\n",
              " 0.600546325885989,\n",
              " -0.028350347141743504,\n",
              " 0.02749300931574078,\n",
              " 0.9837545460267906,\n",
              " 0.6514403996502219,\n",
              " -0.014483986546857952,\n",
              " 1.2547241198209782,\n",
              " 1.5428542412934396,\n",
              " -0.17824636867152605,\n",
              " 0.8680225237882842,\n",
              " 0.2623807421814334,\n",
              " -0.48302173987685487,\n",
              " 1.063051290803256,\n",
              " 0.6834469116568687,\n",
              " 0.9037308024412815,\n",
              " -0.9892912700076923,\n",
              " -0.672061170962689,\n",
              " -0.426035540654434,\n",
              " 0.9221414903315783,\n",
              " 1.4320929954085007,\n",
              " 0.6197454430437628,\n",
              " 0.3410971293208485,\n",
              " 0.9959617487989925,\n",
              " -0.48280780780462973,\n",
              " -0.2147530898870681,\n",
              " 1.5627464439086889,\n",
              " 1.2868950342795609,\n",
              " 0.9509224465972311,\n",
              " -0.35364424009011114,\n",
              " 1.3097735548653235,\n",
              " -0.9069556514727428,\n",
              " 1.0315344741824284,\n",
              " 1.5655238799525244]"
            ]
          },
          "metadata": {
            "tags": []
          },
          "execution_count": 9
        }
      ]
    },
    {
      "cell_type": "code",
      "metadata": {
        "id": "aT8RkRBtq7H9",
        "outputId": "6b4185b9-db75-428c-c526-e5efca274a4f",
        "colab": {
          "base_uri": "https://localhost:8080/",
          "height": 844
        }
      },
      "source": [
        "#untuk mengambil kromosom terbaik dengan cara diurutkan dari yang baik ke buruk kemudian dibagi 2, dicar yang paling baik(setengah ke atas)\n",
        "simpanpopulasi = population(jumlahpopulasi, jumlahkromosom)\n",
        "simpanfitness = hasilperhitungan(simpanpopulasi)\n",
        "def elitism(simpanpopulasi, simpanfitness) :\n",
        "  urutfitness = sorted(zip(simpanpopulasi, simpanfitness), key = lambda x:x[1], reverse = True)\n",
        "  newKromosom = []\n",
        "  for i in range(jumlahpopulasi//2):\n",
        "    newKromosom.append(urutfitness[i][0])\n",
        "  return newKromosom\n",
        "\n",
        "elitism(population(jumlahpopulasi, jumlahkromosom),simpanfitness)\n"
      ],
      "execution_count": 10,
      "outputs": [
        {
          "output_type": "execute_result",
          "data": {
            "text/plain": [
              "[[1, 1, 0, 0, 0, 0, 0, 1, 0, 0, 1, 1, 1, 1, 1, 1, 1, 0, 0, 0],\n",
              " [0, 0, 0, 0, 0, 1, 1, 1, 1, 0, 0, 0, 0, 0, 0, 1, 0, 0, 0, 1],\n",
              " [0, 1, 1, 0, 0, 0, 0, 0, 0, 0, 0, 1, 0, 0, 1, 0, 0, 1, 1, 0],\n",
              " [0, 0, 1, 1, 1, 1, 1, 0, 1, 1, 1, 1, 0, 0, 0, 1, 0, 0, 1, 0],\n",
              " [1, 0, 1, 0, 0, 0, 1, 0, 0, 1, 0, 0, 0, 1, 1, 1, 1, 1, 0, 1],\n",
              " [0, 0, 1, 0, 0, 0, 0, 1, 0, 1, 0, 0, 1, 0, 1, 1, 0, 1, 0, 0],\n",
              " [1, 0, 0, 0, 0, 1, 0, 0, 1, 1, 1, 0, 0, 0, 0, 1, 1, 1, 0, 1],\n",
              " [0, 0, 1, 0, 0, 0, 0, 0, 0, 1, 1, 0, 0, 0, 0, 1, 1, 1, 0, 0],\n",
              " [1, 1, 0, 0, 0, 0, 0, 1, 1, 0, 1, 0, 1, 0, 1, 0, 0, 1, 0, 0],\n",
              " [0, 0, 1, 1, 0, 1, 0, 1, 0, 0, 0, 0, 1, 1, 1, 1, 1, 0, 0, 0],\n",
              " [0, 1, 1, 1, 0, 0, 0, 0, 0, 1, 1, 0, 1, 1, 0, 1, 0, 1, 0, 1],\n",
              " [0, 1, 0, 1, 1, 0, 1, 0, 0, 1, 1, 1, 1, 1, 0, 0, 1, 0, 0, 0],\n",
              " [1, 1, 0, 0, 1, 1, 1, 1, 1, 1, 1, 1, 0, 0, 1, 1, 0, 0, 1, 0],\n",
              " [1, 1, 1, 0, 0, 0, 0, 1, 1, 1, 1, 1, 1, 0, 0, 0, 0, 1, 1, 1],\n",
              " [1, 1, 1, 1, 0, 1, 0, 1, 1, 0, 1, 0, 0, 0, 0, 0, 1, 0, 1, 0],\n",
              " [1, 1, 1, 0, 1, 0, 0, 1, 0, 0, 0, 0, 1, 0, 1, 1, 0, 1, 1, 0],\n",
              " [0, 0, 1, 1, 0, 1, 1, 0, 1, 0, 0, 1, 0, 1, 0, 1, 1, 1, 0, 1],\n",
              " [1, 0, 1, 0, 0, 0, 1, 0, 1, 0, 0, 0, 1, 1, 0, 1, 0, 1, 0, 0],\n",
              " [0, 0, 1, 1, 1, 1, 1, 0, 1, 1, 0, 0, 0, 0, 0, 1, 1, 0, 1, 1],\n",
              " [1, 1, 0, 1, 0, 1, 1, 0, 1, 1, 1, 0, 0, 1, 0, 1, 1, 0, 0, 1],\n",
              " [1, 0, 1, 1, 1, 1, 0, 1, 1, 1, 0, 1, 1, 1, 0, 0, 0, 0, 1, 0],\n",
              " [1, 0, 1, 1, 1, 0, 1, 1, 1, 1, 1, 0, 1, 1, 0, 1, 0, 0, 0, 1],\n",
              " [1, 0, 1, 1, 1, 0, 0, 0, 1, 1, 1, 0, 1, 1, 0, 1, 0, 0, 0, 0],\n",
              " [0, 0, 1, 1, 0, 0, 1, 0, 0, 0, 0, 0, 0, 0, 0, 1, 0, 0, 0, 1],\n",
              " [0, 1, 1, 0, 1, 0, 1, 0, 0, 0, 0, 1, 0, 1, 0, 0, 0, 1, 0, 0],\n",
              " [1, 1, 0, 1, 1, 0, 0, 1, 1, 0, 1, 0, 0, 0, 1, 1, 0, 0, 1, 1],\n",
              " [0, 0, 1, 1, 1, 1, 1, 0, 1, 0, 1, 1, 0, 0, 1, 0, 0, 0, 0, 0],\n",
              " [1, 0, 1, 0, 0, 1, 1, 1, 1, 1, 1, 0, 1, 0, 1, 0, 1, 1, 0, 1],\n",
              " [0, 0, 1, 0, 0, 0, 1, 0, 0, 0, 0, 1, 0, 0, 1, 1, 0, 1, 0, 0],\n",
              " [0, 0, 0, 1, 0, 1, 0, 1, 0, 0, 1, 1, 0, 1, 1, 1, 1, 1, 0, 0],\n",
              " [0, 1, 0, 0, 0, 0, 1, 1, 0, 1, 0, 0, 0, 1, 0, 0, 1, 0, 0, 1],\n",
              " [0, 1, 0, 0, 1, 1, 0, 0, 0, 0, 1, 0, 0, 0, 0, 0, 1, 1, 0, 1],\n",
              " [0, 1, 1, 0, 1, 0, 1, 0, 0, 0, 1, 0, 0, 1, 1, 1, 1, 1, 1, 0],\n",
              " [1, 1, 1, 0, 1, 0, 0, 0, 0, 0, 1, 0, 1, 0, 0, 0, 1, 1, 0, 0],\n",
              " [1, 0, 0, 0, 0, 1, 1, 0, 1, 1, 1, 1, 1, 0, 1, 1, 0, 0, 0, 0],\n",
              " [1, 1, 1, 0, 0, 1, 0, 0, 0, 1, 0, 0, 1, 0, 0, 0, 0, 0, 0, 0],\n",
              " [1, 1, 1, 0, 0, 1, 1, 1, 0, 0, 0, 0, 0, 0, 0, 1, 1, 0, 1, 0],\n",
              " [1, 0, 0, 0, 1, 0, 0, 0, 0, 1, 0, 0, 1, 1, 0, 1, 0, 0, 0, 0],\n",
              " [1, 1, 1, 1, 0, 1, 1, 0, 0, 0, 0, 1, 0, 0, 0, 1, 1, 1, 1, 1],\n",
              " [1, 1, 1, 1, 1, 1, 1, 1, 1, 0, 0, 0, 1, 0, 0, 1, 1, 1, 0, 0],\n",
              " [0, 0, 0, 1, 0, 0, 0, 1, 0, 0, 1, 0, 0, 1, 1, 1, 0, 1, 0, 0],\n",
              " [0, 0, 0, 0, 1, 0, 1, 1, 1, 0, 0, 1, 0, 0, 1, 0, 0, 0, 0, 1],\n",
              " [0, 1, 0, 0, 0, 0, 0, 0, 0, 0, 0, 0, 1, 1, 0, 0, 0, 0, 1, 0],\n",
              " [1, 1, 1, 0, 0, 1, 0, 0, 0, 1, 1, 0, 1, 0, 1, 1, 1, 0, 1, 0],\n",
              " [0, 0, 1, 1, 0, 0, 1, 1, 1, 0, 1, 0, 1, 1, 1, 0, 0, 1, 1, 1]]"
            ]
          },
          "metadata": {
            "tags": []
          },
          "execution_count": 10
        }
      ]
    },
    {
      "cell_type": "code",
      "metadata": {
        "id": "asFlA3Sotvy8",
        "outputId": "8c68accf-5672-4dae-c1bb-fe51ab6a8750",
        "colab": {
          "base_uri": "https://localhost:8080/",
          "height": 35
        }
      },
      "source": [
        "def Pemilihanorangtua(simpanpopulasi):\n",
        "  bagikromosom = random.sample(simpanpopulasi,6)\n",
        "  hasilakhirperhitungan = hasilperhitungan(bagikromosom)\n",
        "  Pemilihanorangtua = sorted(zip(simpanpopulasi,hasilakhirperhitungan), key = lambda x:x[1], reverse = True)\n",
        "  orangtuaterurut = Pemilihanorangtua[0][0]\n",
        "  return orangtuaterurut\n",
        "Pemilihanorangtua(population(jumlahpopulasi, jumlahkromosom))\n"
      ],
      "execution_count": 11,
      "outputs": [
        {
          "output_type": "execute_result",
          "data": {
            "text/plain": [
              "[0, 1, 1, 0, 0, 1, 1, 1, 1, 0, 1, 1, 1, 1, 1, 1, 1, 0, 1, 0]"
            ]
          },
          "metadata": {
            "tags": []
          },
          "execution_count": 11
        }
      ]
    },
    {
      "cell_type": "code",
      "metadata": {
        "id": "ij2aV0Uewphm"
      },
      "source": [
        "def crossover(parent1,parent2):\n",
        "  temp = random.random()\n",
        "  offspring = parent1\n",
        "  if temp <= 0.7 :\n",
        "    batasparent1 = random.randint(0,len(parent1))\n",
        "    offspring = parent1[:batasparent1] + parent2[batasparent1:]\n",
        "  return offspring\n",
        "  parent1 = Pemilihanorangtua(population(jumlahpopulasi, jumlahkromosom))\n",
        "  parent2 = Pemilihanorangtua(population(jumlahpopulasi, jumlahkromosom))\n",
        "  crossover(parent1, parent2)"
      ],
      "execution_count": 12,
      "outputs": []
    },
    {
      "cell_type": "code",
      "metadata": {
        "id": "F2AcOA4PzVsh"
      },
      "source": [
        "def Mutasi(kromosombaru) :\n",
        "  simpanrandom = random.random()\n",
        "  if simpanrandom < 0.1 :\n",
        "    #merandom titik kromosomsepanjang 0 sampai panjang kromosom -1\n",
        "    titikmutasi = random.randint(0,len(kromosombaru)-1)\n",
        "    kromosombaru[titikmutasi] = random.randint(0,1)\n",
        "  return kromosombaru\n",
        "    \n",
        "  totalpopulasi = population(jumlahpopulasi, jumlahkromosom)\n",
        "  for bagikromosom in totalpopulasi :\n",
        "    print(Mutasi(bagikromosom))\n"
      ],
      "execution_count": 13,
      "outputs": []
    },
    {
      "cell_type": "code",
      "metadata": {
        "id": "oU8ndgUA15UF",
        "outputId": "a0ce7b00-bc13-43d1-8be8-5736022bce0d",
        "colab": {
          "base_uri": "https://localhost:8080/",
          "height": 72
        }
      },
      "source": [
        "\n",
        "N = 100\n",
        "simpanpopulasi = population(jumlahpopulasi, jumlahkromosom)\n",
        "for i in range(N) :\n",
        "  simpanfitness = hasilperhitungan(simpanpopulasi)\n",
        "  populasibaru= elitism(simpanpopulasi, simpanfitness)\n",
        "  while len(populasibaru) < jumlahpopulasi :\n",
        "    parent1 = Pemilihanorangtua(simpanpopulasi)\n",
        "    parent2 = Pemilihanorangtua(simpanpopulasi)\n",
        "    anak =  crossover(parent1, parent2)\n",
        "    anak = Mutasi(anak)\n",
        "    populasibaru.append(anak)\n",
        "  simpanpopulasi = populasibaru.copy()\n",
        "populasiterurut = sorted(list(zip(simpanpopulasi, simpanfitness)), key = lambda x:x[1], reverse = True)\n",
        "#display(populasiterurut)\n",
        "simpanfitness = hasilperhitungan(simpanpopulasi)\n",
        "populasi = simpanpopulasi[simpanfitness.index(max(simpanfitness))]\n",
        "print (populasi)\n",
        "print (genotipe(populasi))\n",
        "print (fitness(populasi))"
      ],
      "execution_count": 14,
      "outputs": [
        {
          "output_type": "stream",
          "text": [
            "[1, 1, 1, 1, 1, 1, 1, 1, 1, 1, 1, 0, 0, 0, 1, 1, 0, 1, 1, 0]\n",
            "(2.0, 0.10654936461388065)\n",
            "2.021805674221493\n"
          ],
          "name": "stdout"
        }
      ]
    }
  ]
}