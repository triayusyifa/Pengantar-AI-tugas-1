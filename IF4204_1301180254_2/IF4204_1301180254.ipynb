{
  "nbformat": 4,
  "nbformat_minor": 0,
  "metadata": {
    "colab": {
      "name": "IF4204_1301180254.ipynb",
      "provenance": [],
      "collapsed_sections": []
    },
    "kernelspec": {
      "name": "python3",
      "display_name": "Python 3"
    }
  },
  "cells": [
    {
      "cell_type": "code",
      "metadata": {
        "id": "CVIzBNp-_rDm"
      },
      "source": [
        "def Penghasilan(x):\n",
        "  nilaipenghasilan = []\n",
        "  if ((x>0) and (x<=10.0)) :\n",
        "    nilaipenghasilan.append(Penghasilanrendah(x))\n",
        "  if ((x>=9.5) and (x<=14.5)) :\n",
        "    nilaipenghasilan.append(Penghasilanmenengah(x))\n",
        "  if (x>=13.5) :\n",
        "    nilaipenghasilan.append(Penghasilantinggi(x))\n",
        "  return nilaipenghasilan"
      ],
      "execution_count": 1,
      "outputs": []
    },
    {
      "cell_type": "code",
      "metadata": {
        "id": "ChVhXCpuBybe"
      },
      "source": [
        "def Penghasilantinggi(x):\n",
        "  if ((x>=13.5) and (x<=15.0)) : return \"tinggi\",(x-13.5)/(15.0-13.5)\n",
        "  elif (x>15.0) :  return \"tinggi\",1"
      ],
      "execution_count": 2,
      "outputs": []
    },
    {
      "cell_type": "code",
      "metadata": {
        "id": "JfQaTDEkosWx"
      },
      "source": [
        "def Penghasilanmenengah(x):\n",
        " if((x>=9.5) and (x<=10.0)) : return \"menengah\",(x-9.5)/(10.0-9.5)\n",
        " elif ((x>10.0) and (x<13.5)) : return \"menengah\",1\n",
        " elif ((x>=13.5) and (x<=14.5)) : return \"menengah\",(14.5-x)/(14.5-13.5)"
      ],
      "execution_count": 3,
      "outputs": []
    },
    {
      "cell_type": "code",
      "metadata": {
        "id": "9jqTzxZ7CLkN"
      },
      "source": [
        "def Penghasilanrendah(x):\n",
        "  if ((x>=0) and (x<7.0)) : return \"rendah\",1\n",
        "  elif ((x>=7.0) and (x<=10.0)) : return \"rendah\",(10.0-x)/(10.0-7)"
      ],
      "execution_count": 4,
      "outputs": []
    },
    {
      "cell_type": "code",
      "metadata": {
        "id": "mWDiASSaBC2Z"
      },
      "source": [
        "def Pengeluaran(x) :\n",
        "  nilaipengeluaran = []\n",
        "  if (x>=0 and x<=7.0) :\n",
        "    nilaipengeluaran.append(Pengeluaransedikit(x))\n",
        "  if (x>=6.0 and x<9.5) :\n",
        "    nilaipengeluaran.append(Pengeluaransedang(x))\n",
        "  if (x>=9.0) :\n",
        "    nilaipengeluaran.append(Pengeluaranbanyak(x))\n",
        "  return nilaipengeluaran"
      ],
      "execution_count": 5,
      "outputs": []
    },
    {
      "cell_type": "code",
      "metadata": {
        "id": "wlas0-YECdUe"
      },
      "source": [
        "def Pengeluaranbanyak(x):\n",
        "  if ((x>=9.0) and (x<=10.0)) : return \"banyak\",(x-9.0)/(10.0-9.0)\n",
        "  elif (x>10.0) : return \"banyak\",1"
      ],
      "execution_count": 6,
      "outputs": []
    },
    {
      "cell_type": "code",
      "metadata": {
        "id": "9gzNl_K6E2eB"
      },
      "source": [
        "def Pengeluaransedang(x):\n",
        "  if((x>=6.0) and (x<=7.0)) : return \"sedang\",(x-6.0)/(7.0-6.0)\n",
        "  elif ((x>7.0) and (x<9.0)) : return \"sedang\",1\n",
        "  elif ((x>=9.0) and (x<=9.5)) : return \"sedang\",(9.5-x)/(9.5-9.0)"
      ],
      "execution_count": 7,
      "outputs": []
    },
    {
      "cell_type": "code",
      "metadata": {
        "id": "BRMUe_5qGmvI"
      },
      "source": [
        "def Pengeluaransedikit(x):\n",
        "  if ((x>=0) and (x<5.0)) : return \"sedikit\",1\n",
        "  elif ((x>=5.0) and (x<=7.0)) : return \"sedikit\",(7.0-x)/(7.0-5.0)"
      ],
      "execution_count": 8,
      "outputs": []
    },
    {
      "cell_type": "code",
      "metadata": {
        "id": "ZlxICFLVPcpd"
      },
      "source": [
        "def aturan(penghasilan, pengeluaran ):\n",
        "  if ((penghasilan == \"tinggi\") and (pengeluaran == \"banyak\")) : return \"Ditolak\"\n",
        "  if ((penghasilan == \"tinggi\") and (pengeluaran == \"sedang\")) : return \"Ditolak\"\n",
        "  if ((penghasilan == \"tinggi\") and (pengeluaran == \"sedikit\")) : return \"Ditolak\"\n",
        "  if ((penghasilan == \"menengah\") and (pengeluaran == \"banyak\")) : return \"Diterima\"\n",
        "  if ((penghasilan == \"menengah\") and (pengeluaran == \"sedang\")) : return \"Diterima\"\n",
        "  if ((penghasilan == \"menangah\") and (pengeluaran == \"sedikit\")) : return \"Ditolak\"\n",
        "  if ((penghasilan == \"rendah\") and (pengeluaran == \"banyak\")) : return \"Diterima\"\n",
        "  if ((penghasilan == \"rendah\") and (pengeluaran == \"sedang\")) : return \"Diterima\"\n",
        "  if ((penghasilan == \"rendah\") and (pengeluaran == \"sedikit\")) : return \"Diterima\""
      ],
      "execution_count": 9,
      "outputs": []
    },
    {
      "cell_type": "code",
      "metadata": {
        "id": "-vyYrQXdC0IF"
      },
      "source": [
        "def hasilinferensi(hasil, luaran) :\n",
        "  maksimalditerima = 0.0\n",
        "  maksimalditolak = 0.0\n",
        "  for i in Penghasilan(hasil):\n",
        "    for  j in Pengeluaran(luaran):\n",
        "      if (aturan(i[0],j[0])==\"Diterima\") :\n",
        "        if (maksimalditerima < min(i[1],j[1])) :\n",
        "          maksimalditerima = min(i[1],j[1])\n",
        "      if (aturan(i[0],j[0])==\"Ditolak\") :\n",
        "        if (maksimalditolak < min(i[1],j[1])) :\n",
        "          maksimalditolak = min(i[1],j[1])\n",
        "  return (\"Diterima\", maksimalditerima),(\"Ditolak\", maksimalditolak)"
      ],
      "execution_count": 10,
      "outputs": []
    },
    {
      "cell_type": "code",
      "metadata": {
        "id": "pWJLFtVaqqCl"
      },
      "source": [
        "def defuzzification(nilaiditerima, nilaiditolak):\n",
        "  terima = 100\n",
        "  tolak = 60\n",
        "  rumus = ((nilaiditerima*terima) + (nilaiditolak*tolak)) / (terima + tolak)\n",
        "  return rumus\n"
      ],
      "execution_count": 11,
      "outputs": []
    },
    {
      "cell_type": "code",
      "metadata": {
        "id": "1nXFDI65FX8o",
        "outputId": "67ee6e0c-a81a-47e3-e8ce-c9c2262e0e3a",
        "colab": {
          "base_uri": "https://localhost:8080/"
        }
      },
      "source": [
        "import pandas as pd\n",
        "import numpy as np\n",
        "df = pd.read_excel('Mahasiswa.xls')\n",
        "\n",
        "simpan = []\n",
        "for i in df.iterrows():\n",
        "  hasil = hasilinferensi(i[1].loc['Penghasilan'], i[1].loc['Pengeluaran'])\n",
        "  simpan.append(defuzzification(hasil[0][1],hasil[1][1]))\n",
        "print(simpan)\n",
        "sortDeffuzifiation = sorted(zip(df.Id,simpan), key=lambda x:x[1], reverse=True)\n",
        "print(sortDeffuzifiation)\n",
        "print(\"\\n Hasil\")\n",
        "newBerhasil = []\n",
        "for i in range(20):\n",
        "  newBerhasil.append(sortDeffuzifiation[i][0])\n",
        "print(newBerhasil)\n",
        "pd.DataFrame(newBerhasil).to_excel('Bantuan.xls', header = False,index = False)\n"
      ],
      "execution_count": 12,
      "outputs": [
        {
          "output_type": "stream",
          "text": [
            "[0.2549999999999999, 0.3437500000000001, 0.375, 0.3125, 0.3712500000000001, 0.375, 0.20208333333333345, 0.375, 0.375, 0.375, 0.4125000000000001, 0.3287500000000003, 0.21874999999999978, 0.625, 0.375, 0.48749999999999966, 0.29249999999999976, 0.2549999999999999, 0.008333333333333156, 0.375, 0.3337500000000002, 0.17250000000000032, 0.28, 0.375, 0.625, 0.41250000000000053, 0.375, 0.28874999999999984, 0.375, 0.375, 0.2137500000000001, 0.375, 0.6187499999999999, 0.20999999999999988, 0.375, 0.4675000000000001, 0.2925000000000004, 0.5499999999999994, 0.4125000000000001, 0.29249999999999976, 0.5499999999999999, 0.41499999999999987, 0.4262500000000003, 0.2549999999999999, 0.17250000000000032, 0.10000000000000009, 0.16250000000000098, 0.20416666666666677, 0.10000000000000009, 0.1437499999999999, 0.375, 0.18750000000000006, 0.3125, 0.375, 0.2699999999999996, 0.3900000000000001, 0.375, 0.375, 0.3750000000000001, 0.1416666666666666, 0.1541666666666667, 0.625, 0.14791666666666684, 0.375, 0.625, 0.16250000000000098, 0.56125, 0.31000000000000005, 0.4499999999999993, 0.375, 0.36750000000000016, 0.060416666666666494, 0.375, 0.3083333333333334, 0.625, 0.625, 0.375, 0.375, 0.3083333333333334, 0.375, 0.1708333333333334, 0.375, 0.375, 0.33999999999999986, 0.35749999999999993, 0.2999999999999998, 0.375, 0.375, 0.375, 0.375, 0.375, 0.375, 0.11041666666666652, 0.19374999999999992, 0.375, 0.375, 0.29249999999999976, 0.2549999999999999, 0.4125000000000001, 0.45000000000000007]\n",
            "[(14, 0.625), (25, 0.625), (62, 0.625), (65, 0.625), (75, 0.625), (76, 0.625), (33, 0.6187499999999999), (67, 0.56125), (41, 0.5499999999999999), (38, 0.5499999999999994), (16, 0.48749999999999966), (36, 0.4675000000000001), (100, 0.45000000000000007), (69, 0.4499999999999993), (43, 0.4262500000000003), (42, 0.41499999999999987), (26, 0.41250000000000053), (11, 0.4125000000000001), (39, 0.4125000000000001), (99, 0.4125000000000001), (56, 0.3900000000000001), (59, 0.3750000000000001), (3, 0.375), (6, 0.375), (8, 0.375), (9, 0.375), (10, 0.375), (15, 0.375), (20, 0.375), (24, 0.375), (27, 0.375), (29, 0.375), (30, 0.375), (32, 0.375), (35, 0.375), (51, 0.375), (54, 0.375), (57, 0.375), (58, 0.375), (64, 0.375), (70, 0.375), (73, 0.375), (77, 0.375), (78, 0.375), (80, 0.375), (82, 0.375), (83, 0.375), (87, 0.375), (88, 0.375), (89, 0.375), (90, 0.375), (91, 0.375), (92, 0.375), (95, 0.375), (96, 0.375), (5, 0.3712500000000001), (71, 0.36750000000000016), (85, 0.35749999999999993), (2, 0.3437500000000001), (84, 0.33999999999999986), (21, 0.3337500000000002), (12, 0.3287500000000003), (4, 0.3125), (53, 0.3125), (68, 0.31000000000000005), (74, 0.3083333333333334), (79, 0.3083333333333334), (86, 0.2999999999999998), (37, 0.2925000000000004), (17, 0.29249999999999976), (40, 0.29249999999999976), (97, 0.29249999999999976), (28, 0.28874999999999984), (23, 0.28), (55, 0.2699999999999996), (1, 0.2549999999999999), (18, 0.2549999999999999), (44, 0.2549999999999999), (98, 0.2549999999999999), (13, 0.21874999999999978), (31, 0.2137500000000001), (34, 0.20999999999999988), (48, 0.20416666666666677), (7, 0.20208333333333345), (94, 0.19374999999999992), (52, 0.18750000000000006), (22, 0.17250000000000032), (45, 0.17250000000000032), (81, 0.1708333333333334), (47, 0.16250000000000098), (66, 0.16250000000000098), (61, 0.1541666666666667), (63, 0.14791666666666684), (50, 0.1437499999999999), (60, 0.1416666666666666), (93, 0.11041666666666652), (46, 0.10000000000000009), (49, 0.10000000000000009), (72, 0.060416666666666494), (19, 0.008333333333333156)]\n",
            "\n",
            " Hasil\n",
            "[14, 25, 62, 65, 75, 76, 33, 67, 41, 38, 16, 36, 100, 69, 43, 42, 26, 11, 39, 99]\n"
          ],
          "name": "stdout"
        }
      ]
    }
  ]
}