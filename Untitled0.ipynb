{
  "nbformat": 4,
  "nbformat_minor": 0,
  "metadata": {
    "colab": {
      "name": "Untitled0.ipynb",
      "provenance": [],
      "collapsed_sections": []
    },
    "kernelspec": {
      "name": "python3",
      "display_name": "Python 3"
    }
  },
  "cells": [
    {
      "cell_type": "code",
      "metadata": {
        "id": "85q28hw84g_R"
      },
      "source": [
        "jumlahpopulasi = 11\n",
        "jumlahkromosom = 20\n",
        "batas1 = [-1,2]\n",
        "batas2 = [-1,1]\n"
      ],
      "execution_count": 1,
      "outputs": []
    },
    {
      "cell_type": "code",
      "metadata": {
        "id": "6j9JlXtLxyru"
      },
      "source": [
        "#berisi binner yang diolah oleh sistem secara random. \n",
        "import random\n",
        "def kromosom(jumlahkromosom):\n",
        "  kromosom = []\n",
        "  for i in range(jumlahkromosom):\n",
        "    kromosom.append(random.randint(0,1))\n",
        "  return kromosom"
      ],
      "execution_count": 2,
      "outputs": []
    },
    {
      "cell_type": "code",
      "metadata": {
        "id": "xEMROar3z_rR"
      },
      "source": [
        "#kumpulan kromosom(secara random)\n",
        "def population(jumlahpopulasi,jumlahkromosom):\n",
        "  population =[]\n",
        "  for i in range(jumlahpopulasi):\n",
        "    population.append(kromosom(jumlahkromosom))\n",
        "  return population\n"
      ],
      "execution_count": 3,
      "outputs": []
    },
    {
      "cell_type": "code",
      "metadata": {
        "id": "_twyEIBP1GHb"
      },
      "source": [
        "#mengitung x1 dan x2 (rumus ada di slide)\n",
        "def fenotipe(bagidua,g):\n",
        "  penyebut = 0\n",
        "  for i in range(len(bagidua)):\n",
        "    penyebut = penyebut + 2 **(-(i+1))\n",
        "  iteratif = 0\n",
        "  for i in range(len(bagidua)):\n",
        "    iteratif = iteratif + bagidua[i]  * 2**(-(i+1))\n",
        "  if g == 1:\n",
        "    return batas1[0] + ((batas1[1]-batas1[0])/penyebut) * iteratif\n",
        "  else:\n",
        "     return batas2[0] + ((batas2[1] - batas2[0])/penyebut) * iteratif"
      ],
      "execution_count": 4,
      "outputs": []
    },
    {
      "cell_type": "code",
      "metadata": {
        "id": "dUDexOgr89bo"
      },
      "source": [
        "#membagi panjang kromosom menjadi 2 dan menghitung x1 dan x2\n",
        "def genotipe(bagikromosom):\n",
        "  x1 = fenotipe(bagikromosom[:len(bagikromosom)//2],1)\n",
        "  x2 = fenotipe(bagikromosom[len(bagikromosom)//2:],2)\n",
        "  return x1,x2"
      ],
      "execution_count": 5,
      "outputs": []
    },
    {
      "cell_type": "code",
      "metadata": {
        "id": "YlIiA7yD_QUP",
        "outputId": "6ef85713-ffbf-420b-97e1-f640746817c4",
        "colab": {
          "base_uri": "https://localhost:8080/",
          "height": 219
        }
      },
      "source": [
        "#mengoutputkan hasil genotipe yang sudah dibagi 2\n",
        "jumlah = population(jumlahpopulasi, jumlahkromosom)\n",
        "for bagikromosom in jumlah:\n",
        "  print(genotipe(bagikromosom))"
      ],
      "execution_count": 6,
      "outputs": [
        {
          "output_type": "stream",
          "text": [
            "(-0.11436950146627567, -0.6774193548387097)\n",
            "(-0.5043988269794721, 0.0889540566959921)\n",
            "(0.0029325513196480912, 0.313782991202346)\n",
            "(-0.343108504398827, -0.40175953079178883)\n",
            "(0.32844574780058644, 0.47214076246334313)\n",
            "(-0.4574780058651027, 0.04203323558162264)\n",
            "(0.7536656891495601, 0.15542521994134906)\n",
            "(0.6158357771260996, 0.5073313782991202)\n",
            "(1.6422287390029324, -0.14369501466275658)\n",
            "(0.967741935483871, 0.5425219941348973)\n",
            "(-0.4545454545454546, -0.5151515151515151)\n"
          ],
          "name": "stdout"
        }
      ]
    },
    {
      "cell_type": "code",
      "metadata": {
        "id": "ylAfE_zOA6mG"
      },
      "source": [
        "#mendefinisikan rumus sin cos yang ada di soal\n",
        "import numpy as np\n",
        "def soal(x1,x2):\n",
        "  penyebut = x1/((x2**2)+1)\n",
        "  rumus = np.cos(x1)*np.sin(x2) - penyebut\n",
        "  return rumus\n"
      ],
      "execution_count": 7,
      "outputs": []
    },
    {
      "cell_type": "code",
      "metadata": {
        "id": "NsG9m-65DaIn"
      },
      "source": [
        "#fitness untuk menegatifkan rumus sin cos yang di soal\n",
        "def fitness(bagikromosom) :\n",
        "  x1,x2 = genotipe(bagikromosom)\n",
        "  rumus= -soal(x1,x2)\n",
        "  return rumus\n"
      ],
      "execution_count": 8,
      "outputs": []
    },
    {
      "cell_type": "code",
      "metadata": {
        "id": "VSfyE_ydo89n",
        "outputId": "188d9b6d-9597-4880-8b4a-3a54233e4487",
        "colab": {
          "base_uri": "https://localhost:8080/",
          "height": 219
        }
      },
      "source": [
        "#hasilperhitungan untuk megoutputkan semua fitness (rumus sin cos yang sudah dihitung dan dinegatifkan)\n",
        "def hasilperhitungan(jumlah) :\n",
        "  banyakfitness = []\n",
        "  for bagikromosom in jumlah :\n",
        "    banyakfitness.append(fitness(bagikromosom))\n",
        "  return banyakfitness\n",
        "\n",
        "hasilperhitungan(population(jumlahpopulasi, jumlahkromosom))\n"
      ],
      "execution_count": 9,
      "outputs": [
        {
          "output_type": "execute_result",
          "data": {
            "text/plain": [
              "[1.5273410161805698,\n",
              " 1.2080763939733088,\n",
              " -0.6121126314284585,\n",
              " 1.7480812604926714,\n",
              " 0.8938866392488137,\n",
              " 0.5749900727439073,\n",
              " -0.784181225762869,\n",
              " 0.03502580243603959,\n",
              " 0.3852367896742431,\n",
              " -0.6244741944471262,\n",
              " -0.49009406966421937]"
            ]
          },
          "metadata": {
            "tags": []
          },
          "execution_count": 9
        }
      ]
    },
    {
      "cell_type": "code",
      "metadata": {
        "id": "aT8RkRBtq7H9",
        "outputId": "aefbb34c-5a8e-49c5-e7c0-24444de1e2b6",
        "colab": {
          "base_uri": "https://localhost:8080/",
          "height": 109
        }
      },
      "source": [
        "#untuk mengambil kromosom terbaik dengan cara diurutkan dari yang baik ke buruk kemudian dibagi 2, dicar yang paling baik(setengah ke atas)\n",
        "simpanpopulasi = population(jumlahpopulasi, jumlahkromosom)\n",
        "simpanfitness = hasilperhitungan(simpanpopulasi)\n",
        "def elitism(simpanpopulasi, simpanfitness) :\n",
        "  urutfitness = sorted(zip(simpanpopulasi, simpanfitness), key = lambda x:x[1], reverse = True)\n",
        "  newKromosom = []\n",
        "  for i in range(jumlahpopulasi//2):\n",
        "    newKromosom.append(urutfitness[i][0])\n",
        "  return newKromosom\n",
        "\n",
        "elitism(population(jumlahpopulasi, jumlahkromosom),simpanfitness)\n"
      ],
      "execution_count": 10,
      "outputs": [
        {
          "output_type": "execute_result",
          "data": {
            "text/plain": [
              "[[1, 1, 1, 1, 1, 0, 0, 1, 0, 1, 0, 0, 1, 0, 1, 1, 0, 1, 0, 0],\n",
              " [1, 0, 0, 0, 1, 1, 1, 0, 0, 0, 0, 0, 1, 0, 1, 0, 1, 1, 1, 1],\n",
              " [0, 0, 0, 0, 0, 1, 0, 0, 0, 0, 1, 0, 1, 1, 1, 0, 0, 0, 0, 1],\n",
              " [0, 0, 1, 0, 1, 1, 1, 0, 1, 1, 1, 1, 0, 0, 0, 1, 1, 1, 1, 0],\n",
              " [0, 0, 0, 0, 0, 1, 1, 0, 0, 0, 1, 1, 0, 1, 1, 1, 0, 1, 0, 1]]"
            ]
          },
          "metadata": {
            "tags": []
          },
          "execution_count": 10
        }
      ]
    },
    {
      "cell_type": "code",
      "metadata": {
        "id": "asFlA3Sotvy8",
        "outputId": "0a046f72-d9f8-4d01-e0c8-89627d3287a7",
        "colab": {
          "base_uri": "https://localhost:8080/",
          "height": 35
        }
      },
      "source": [
        "def Pemilihanorangtua(simpanpopulasi):\n",
        "  bagikromosom = random.sample(simpanpopulasi,6)\n",
        "  hasilakhirperhitungan = hasilperhitungan(bagikromosom)\n",
        "  Pemilihanorangtua = sorted(zip(simpanpopulasi,hasilakhirperhitungan), key = lambda x:x[1], reverse = True)\n",
        "  orangtuaterurut = Pemilihanorangtua[0][0]\n",
        "  return orangtuaterurut\n",
        "Pemilihanorangtua(population(jumlahpopulasi, jumlahkromosom))\n"
      ],
      "execution_count": 11,
      "outputs": [
        {
          "output_type": "execute_result",
          "data": {
            "text/plain": [
              "[0, 1, 1, 1, 1, 0, 0, 0, 1, 0, 1, 1, 1, 0, 0, 0, 0, 0, 1, 1]"
            ]
          },
          "metadata": {
            "tags": []
          },
          "execution_count": 11
        }
      ]
    },
    {
      "cell_type": "code",
      "metadata": {
        "id": "ij2aV0Uewphm"
      },
      "source": [
        "def crossover(parent1,parent2):\n",
        "  temp = random.random()\n",
        "  offspring = parent1\n",
        "  if temp <= 0.7 :\n",
        "    batasparent1 = random.randint(0,len(parent1))\n",
        "    offspring = parent1[:batasparent1] + parent2[batasparent1:]\n",
        "  return offspring\n",
        "  parent1 = Pemilihanorangtua(population(jumlahpopulasi, jumlahkromosom))\n",
        "  parent2 = Pemilihanorangtua(population(jumlahpopulasi, jumlahkromosom))\n",
        "  crossover(parent1, parent2)"
      ],
      "execution_count": 12,
      "outputs": []
    },
    {
      "cell_type": "code",
      "metadata": {
        "id": "F2AcOA4PzVsh"
      },
      "source": [
        "def Mutasi(kromosombaru) :\n",
        "  simpanrandom = random.random()\n",
        "  if simpanrandom < 0.1 :\n",
        "    #merandom titik kromosomsepanjang 0 sampai panjang kromosom -1\n",
        "    titikmutasi = random.randint(0,len(kromosombaru)-1)\n",
        "    kromosombaru[titikmutasi] = random.randint(0,1)\n",
        "  return kromosombaru\n",
        "    \n",
        "  totalpopulasi = population(jumlahpopulasi, jumlahkromosom)\n",
        "  for bagikromosom in totalpopulasi :\n",
        "    print(Mutasi(bagikromosom))\n"
      ],
      "execution_count": 13,
      "outputs": []
    },
    {
      "cell_type": "code",
      "metadata": {
        "id": "oU8ndgUA15UF",
        "outputId": "f6508834-d455-4b9a-9f84-a6a93ea70887",
        "colab": {
          "base_uri": "https://localhost:8080/",
          "height": 421
        }
      },
      "source": [
        "\n",
        "N = 100\n",
        "simpanpopulasi = population(jumlahpopulasi, jumlahkromosom)\n",
        "for i in range(N) :\n",
        "  simpanfitness = hasilperhitungan(simpanpopulasi)\n",
        "  populasibaru= elitism(simpanpopulasi, simpanfitness)\n",
        "  while len(populasibaru) < jumlahpopulasi :\n",
        "    parent1 = Pemilihanorangtua(simpanpopulasi)\n",
        "    parent2 = Pemilihanorangtua(simpanpopulasi)\n",
        "    anak =  crossover(parent1, parent2)\n",
        "    anak = Mutasi(anak)\n",
        "    populasibaru.append(anak)\n",
        "  simpanpopulasi = populasibaru.copy()\n",
        "populasiterurut = sorted(list(zip(simpanpopulasi, simpanfitness)), key = lambda x:x[1], reverse = True)\n",
        "display(populasiterurut)\n",
        "  "
      ],
      "execution_count": 14,
      "outputs": [
        {
          "output_type": "display_data",
          "data": {
            "text/plain": [
              "[([1, 1, 1, 1, 1, 1, 0, 1, 0, 1, 0, 1, 1, 1, 1, 1, 1, 1, 0, 1],\n",
              "  1.9687246521143982),\n",
              " ([1, 1, 1, 1, 1, 1, 0, 1, 0, 1, 0, 1, 1, 1, 1, 1, 1, 1, 0, 1],\n",
              "  1.9687246521143982),\n",
              " ([1, 1, 1, 1, 1, 1, 0, 1, 0, 1, 0, 1, 1, 1, 1, 1, 1, 1, 0, 1],\n",
              "  1.9687246521143982),\n",
              " ([1, 1, 1, 1, 1, 1, 0, 1, 0, 1, 0, 1, 1, 1, 1, 1, 1, 1, 0, 1],\n",
              "  1.9687246521143982),\n",
              " ([1, 1, 1, 1, 1, 1, 0, 1, 0, 1, 0, 1, 1, 1, 1, 1, 1, 1, 0, 1],\n",
              "  1.9687246521143982),\n",
              " ([1, 1, 1, 1, 1, 1, 0, 1, 0, 1, 0, 1, 1, 1, 1, 1, 1, 1, 0, 1],\n",
              "  1.9687246521143982),\n",
              " ([1, 1, 1, 1, 1, 1, 0, 1, 0, 1, 0, 1, 1, 1, 1, 1, 1, 1, 0, 1],\n",
              "  1.9687246521143982),\n",
              " ([1, 1, 1, 1, 1, 1, 0, 1, 0, 1, 0, 1, 1, 1, 1, 1, 1, 1, 0, 1],\n",
              "  1.9687246521143982),\n",
              " ([1, 1, 1, 1, 1, 1, 0, 1, 0, 1, 0, 1, 1, 1, 1, 1, 1, 1, 0, 1],\n",
              "  1.9687246521143982),\n",
              " ([1, 1, 1, 1, 1, 1, 0, 1, 0, 1, 0, 1, 1, 1, 1, 1, 1, 1, 0, 1],\n",
              "  1.9687246521143982),\n",
              " ([1, 1, 1, 1, 1, 1, 0, 1, 0, 1, 0, 1, 1, 1, 1, 1, 1, 1, 0, 1],\n",
              "  1.9687246521143982)]"
            ]
          },
          "metadata": {
            "tags": []
          }
        }
      ]
    }
  ]
}